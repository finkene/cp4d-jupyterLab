{
 "cells": [
  {
   "cell_type": "markdown",
   "metadata": {
    "_uuid": "d690122aa31f6af2e76d958c9b72209c12a46907",
    "id": "74b33c1d-8997-4534-8348-a83ee39971f0"
   },
   "source": [
    "<img src=\"https://s16353.pcdn.co/wp-content/uploads/2018/06/Churn.png\" style=\"float: left;\" width=\"400\" height=\"100\" />\n",
    "# PREVENTING BANK CUSTOMER CHURN!\n",
    "# \" Exploratory Data Analysis  & Prediction!\"\n",
    "\n",
    "# 2018\n",
    "\n",
    "[** by_Keldine Malit** ]"
   ]
  },
  {
   "cell_type": "markdown",
   "metadata": {
    "id": "c2ebf92d-1675-41fa-9df9-07d78426f8e9"
   },
   "source": []
  },
  {
   "cell_type": "markdown",
   "metadata": {
    "_uuid": "33e888aab1d3b8c07f3645d2ad9bbd1963c64c70",
    "id": "4759fc89-a597-4b9b-8b1b-04bea202f216"
   },
   "source": [
    " ## 1. Introduction"
   ]
  },
  {
   "cell_type": "markdown",
   "metadata": {
    "_uuid": "e0d1ffc59c43795371a0910eb93a9758a91210a8",
    "id": "14f3165f-e526-48a6-832c-abcbe54baefd"
   },
   "source": [
    "We aim to accomplist the following for this study:\n",
    "\n",
    "1. Identify and visualize which factors contribute to customer churn:\n",
    "    \n",
    "2. Build a prediction model that will perform the following:\n",
    "    * Classify if a customer is going to churn or not\n",
    "    * Preferably and based on model performance, choose a model that will attach a probability to the churn to make it easier for customer service to target low hanging fruits in their efforts to prevent churn"
   ]
  },
  {
   "cell_type": "markdown",
   "metadata": {
    "_uuid": "3c8a99d0766612f59d4b3e983e19933e9118c873",
    "id": "a71eb0d2-40bb-42c2-9598-7338da5a2153"
   },
   "source": [
    "## 2. Data set review & preparation\n",
    "\n",
    "In this section we will seek to explore the structure of our data: \n",
    "1. To understand the input space the data set\n",
    "2. And to prepare the sets for exploratory and prediction tasks as described in section 1"
   ]
  },
  {
   "cell_type": "code",
   "execution_count": null,
   "metadata": {
    "_cell_guid": "b1076dfc-b9ad-4769-8c92-a6c4dae69d19",
    "_uuid": "8f2839f25d086af736a60e9eeb907d3b93b6e0e5",
    "id": "eeee5ec2-cf79-422c-820f-e2c19bf5651d"
   },
   "outputs": [],
   "source": [
    "## REQUIRED LIBRARIES\n",
    "# For data wrangling \n",
    "import numpy as np\n",
    "import pandas as pd\n",
    "\n",
    "# For visualization\n",
    "import matplotlib.pyplot as plt\n",
    "%matplotlib inline\n",
    "import seaborn as sns\n",
    "pd.options.display.max_rows = None\n",
    "pd.options.display.max_columns = None"
   ]
  },
  {
   "cell_type": "code",
   "execution_count": null,
   "metadata": {
    "_cell_guid": "79c7e3d0-c299-4dcb-8224-4455121ee9b0",
    "_uuid": "d629ff2d2480ee46fbb7e2d37f6b5fab8052498a",
    "id": "c6057f27-1de6-4dbb-9692-acb9d444e0bd"
   },
   "outputs": [],
   "source": [
    "# Read the data frame\n",
    "df = pd.read_csv('../input/Churn_Modelling.csv', delimiter=',')\n",
    "df.shape"
   ]
  },
  {
   "cell_type": "markdown",
   "metadata": {
    "_uuid": "e46d6a276236ba04ec8cf1c3897c14a30d1ff754",
    "id": "22e4a55e-c223-4bd4-b71d-c1ef00a1fa93"
   },
   "source": [
    "The Df has 1000 rows with 14 attributes. We review this further to identify what attributes will be necessary and what data manipulation needs to be carried out before Exploratory analysis and prediction modelling"
   ]
  },
  {
   "cell_type": "code",
   "execution_count": null,
   "metadata": {
    "_uuid": "2a62bb5da5b4b6d4407bd0637c80a22c49bb1786",
    "id": "38c95ab4-8f77-4b9f-9e6d-d3a374d78f73"
   },
   "outputs": [],
   "source": [
    "# Check columns list and missing values\n",
    "df.isnull().sum()"
   ]
  },
  {
   "cell_type": "markdown",
   "metadata": {
    "_uuid": "88de32a4de96b3d27f12ba0d4c5904976e53cdf6",
    "id": "8672808b-5481-4e93-be6c-c435a189b7f1"
   },
   "source": [
    "Well isn't that a rare find; no missing values! "
   ]
  },
  {
   "cell_type": "code",
   "execution_count": null,
   "metadata": {
    "_uuid": "9e98bb09ddde1439ea2dcdc0428d204a779fca9d",
    "id": "004522bd-ec08-4104-b07e-039fd8ca5f8b"
   },
   "outputs": [],
   "source": [
    "# Get unique count for each variable\n",
    "df.nunique()"
   ]
  },
  {
   "cell_type": "markdown",
   "metadata": {
    "_uuid": "2b87b84346aca580e9b89ebdea888a4dfe217300",
    "id": "4e7a2ac0-b10d-4475-a7a6-3850c4c36050"
   },
   "source": [
    "From the above, we will not require the first 2 attributes as the are specific to a customer. It is borderline with the surname as this would result to profiling so we exclude this as well."
   ]
  },
  {
   "cell_type": "code",
   "execution_count": null,
   "metadata": {
    "_uuid": "6cd50b315694153db48b27de69c168a88ac1d356",
    "id": "2aab8b4e-d5ab-440b-9e13-41874aa3c8c5"
   },
   "outputs": [],
   "source": [
    "# Drop the columns as explained above\n",
    "df = df.drop([\"RowNumber\", \"CustomerId\", \"Surname\"], axis = 1)"
   ]
  },
  {
   "cell_type": "code",
   "execution_count": null,
   "metadata": {
    "_uuid": "88bde8bd630802a3daf982c6626dafaa0afd923a",
    "id": "5856c022-a13d-45fd-aedb-d8a52cc38f82"
   },
   "outputs": [],
   "source": [
    "# Review the top rows of what is left of the data frame\n",
    "df.head()"
   ]
  },
  {
   "cell_type": "markdown",
   "metadata": {
    "_uuid": "e81bc964f8dfaf541e671da7d1fccdcd6ca25abb",
    "id": "54d178c8-8e3e-42fe-b5d6-577e32276876"
   },
   "source": [
    "From the above, a couple of question linger:\n",
    "1. The data appears to be a snapshot as some point in time e.g. the balance is for a given date which leaves a lot of questions:\n",
    "    * What date is it and of what relevance is this date\n",
    "    * Would it be possible to obtain balances over a period of time as opposed to a single date.\n",
    "2. There are customers who have exited but still have a balance in their account! What would this mean? Could they have exited from a product and not the bank?\n",
    "3. What does being an active member mean and are there difference degrees to it? Could it be better to provide transaction count both in terms of credits and debits to the account instead?\n",
    "4. A break down to the products bought into by a customer could provide more information topping listing of product count\n",
    "\n",
    "For this exercise, we proceed to model without context even though typically having context and better understanding of the data extraction process would give better insight and possibly lead to better and contextual results of the modelling process"
   ]
  },
  {
   "cell_type": "code",
   "execution_count": null,
   "metadata": {
    "_uuid": "45aef4b958a6648bbd4f7891e7acb0bc4a72e517",
    "id": "1e9a7fb9-909f-4fb8-ad3e-099894395892"
   },
   "outputs": [],
   "source": [
    "# Check variable data types\n",
    "df.dtypes"
   ]
  },
  {
   "cell_type": "markdown",
   "metadata": {
    "_uuid": "4d7b2fcd64b9a0a6420134147be484156a5c4be3",
    "id": "41e83a9b-64e7-48b7-ab2f-af7f9cf7d811"
   },
   "source": [
    "So we moslty have categorical variables and 5 continuous variables"
   ]
  },
  {
   "cell_type": "markdown",
   "metadata": {
    "_uuid": "975e978c67d06e124c5d3aab2c73a666fce6267e",
    "id": "ebae45c5-5a72-4545-b80b-259abb6b5586"
   },
   "source": [
    "## 3. Exploratory Data Analysis\n",
    "Here our main interest is to get an understanding as to how the given attributes relate too the 'Exit' status."
   ]
  },
  {
   "cell_type": "code",
   "execution_count": null,
   "metadata": {
    "_uuid": "9dbc0f4cc6e42fb0278f9aa113262c0fb4148c80",
    "id": "6b19fd1c-b1e3-4a11-bee1-1cf9b5b49318"
   },
   "outputs": [],
   "source": [
    "labels = 'Exited', 'Retained'\n",
    "sizes = [df.Exited[df['Exited']==1].count(), df.Exited[df['Exited']==0].count()]\n",
    "explode = (0, 0.1)\n",
    "fig1, ax1 = plt.subplots(figsize=(10, 8))\n",
    "ax1.pie(sizes, explode=explode, labels=labels, autopct='%1.1f%%',\n",
    "        shadow=True, startangle=90)\n",
    "ax1.axis('equal')\n",
    "plt.title(\"Proportion of customer churned and retained\", size = 20)\n",
    "plt.show()"
   ]
  },
  {
   "cell_type": "markdown",
   "metadata": {
    "_uuid": "cc79dde5b0abdc85e25b0b4919aa264de464474c",
    "id": "8baffba5-eddf-4c3d-9a7e-5b22c627003a"
   },
   "source": [
    "So about 20% of the customers have churned. So the baseline model could be to predict that 20% of the customers will churn.\n",
    "Given 20% is a small number,  we need to ensure that the chosen model does predict with great accuracy this 20% as it is of interest to the bank to identify and keep this bunch as opposed to accurately predicting the customers that are retained."
   ]
  },
  {
   "cell_type": "code",
   "execution_count": null,
   "metadata": {
    "_uuid": "1ac3573f4043cc77ed39cf23e03f87ff04042579",
    "id": "bb406b0c-aca2-4348-a718-0285c8d8eda2"
   },
   "outputs": [],
   "source": [
    "    # We first review the 'Status' relation with categorical variables\n",
    "    fig, axarr = plt.subplots(2, 2, figsize=(20, 12))\n",
    "    sns.countplot(x='Geography', hue = 'Exited',data = df, ax=axarr[0][0])\n",
    "    sns.countplot(x='Gender', hue = 'Exited',data = df, ax=axarr[0][1])\n",
    "    sns.countplot(x='HasCrCard', hue = 'Exited',data = df, ax=axarr[1][0])\n",
    "    sns.countplot(x='IsActiveMember', hue = 'Exited',data = df, ax=axarr[1][1])"
   ]
  },
  {
   "cell_type": "markdown",
   "metadata": {
    "_uuid": "9bb1084317d055a6c9f896abe428f606a3e9c81e",
    "id": "22424fcf-d1e9-4e09-a13b-816f5230dbbc"
   },
   "source": [
    "We note the following:\n",
    "* Majority of the data is from persons from France. However, the proportion of churned customers is with inversely related to the population of customers alluding to the bank possibly having a problem (maybe not enough customer service resources allocated) in the areas where it has fewer clients.\n",
    "* The proportion of female customers churning is also greater than that of male customers\n",
    "* Interestingly, majority of the customers that churned are those with credit cards. Given that majority of the customers have credit cards could prove this to be just a coincidence. \n",
    "* Unsurprisingly the inactive members have a greater churn. Worryingly is that the overall proportion of inactive mebers is quite high suggesting that the bank may need a program implemented to turn this group to active customers as this will definately have a positive impact on the customer churn.\n"
   ]
  },
  {
   "cell_type": "code",
   "execution_count": null,
   "metadata": {
    "_uuid": "b905d0409004fb4d6dae46d95dbe17d957afa87b",
    "id": "15b349e2-637b-43e5-bd41-ee5dc638755f"
   },
   "outputs": [],
   "source": [
    "    # Relations based on the continuous data attributes\n",
    "    fig, axarr = plt.subplots(3, 2, figsize=(20, 12))\n",
    "    sns.boxplot(y='CreditScore',x = 'Exited', hue = 'Exited',data = df, ax=axarr[0][0])\n",
    "    sns.boxplot(y='Age',x = 'Exited', hue = 'Exited',data = df , ax=axarr[0][1])\n",
    "    sns.boxplot(y='Tenure',x = 'Exited', hue = 'Exited',data = df, ax=axarr[1][0])\n",
    "    sns.boxplot(y='Balance',x = 'Exited', hue = 'Exited',data = df, ax=axarr[1][1])\n",
    "    sns.boxplot(y='NumOfProducts',x = 'Exited', hue = 'Exited',data = df, ax=axarr[2][0])\n",
    "    sns.boxplot(y='EstimatedSalary',x = 'Exited', hue = 'Exited',data = df, ax=axarr[2][1])"
   ]
  },
  {
   "cell_type": "markdown",
   "metadata": {
    "_uuid": "969a3b302aacffa0a28bcc0d9a157101a3214929",
    "id": "0a9b7f48-e941-43a6-9e07-f08a4c951b7e"
   },
   "source": [
    "We note the following:\n",
    "* There is no significant difference in the credit score distribution between retained and churned customers. \n",
    "* The older customers are churning at more than the younger ones alluding to a difference in service preference in the age categories. The bank may need to review their target market or review the strategy for retention between the different age groups\n",
    "* With regard to the tenure, the clients on either extreme end (spent little time with the bank or a lot of time with the bank) are more likely to churn compared to those that are of average tenure.\n",
    "*  Worryingly, the bank is losing customers with significant bank balances which is likely to hit their available capital for lending.\n",
    "* Neither the product nor the salary has a significant effect on the likelihood to churn."
   ]
  },
  {
   "cell_type": "markdown",
   "metadata": {
    "_uuid": "170ef4a92a699333453cf6e18c42822303137db2",
    "id": "ba40e498-ea1f-4dc0-b3cf-beae4e44ab33"
   },
   "source": [
    "## 4. Feature engineering\n",
    "We seek to add features that are likely to have an impact on the probability of churning. We first split the train and test sets"
   ]
  },
  {
   "cell_type": "code",
   "execution_count": null,
   "metadata": {
    "_uuid": "13a8d524dc0ec3ca08f4ea47d2192bf8a0797871",
    "id": "63a95b86-24de-4f68-8b22-e51df95e0b27"
   },
   "outputs": [],
   "source": [
    "# Split Train, test data\n",
    "df_train = df.sample(frac=0.8,random_state=200)\n",
    "df_test = df.drop(df_train.index)\n",
    "print(len(df_train))\n",
    "print(len(df_test))"
   ]
  },
  {
   "cell_type": "code",
   "execution_count": null,
   "metadata": {
    "_uuid": "296fb7912c926c64449c83d394ceaf1f5da3bde4",
    "id": "642a7e3f-8a4b-407e-94dc-3bdedd47e61b"
   },
   "outputs": [],
   "source": [
    "df_train['BalanceSalaryRatio'] = df_train.Balance/df_train.EstimatedSalary\n",
    "sns.boxplot(y='BalanceSalaryRatio',x = 'Exited', hue = 'Exited',data = df_train)\n",
    "plt.ylim(-1, 5)"
   ]
  },
  {
   "cell_type": "markdown",
   "metadata": {
    "_uuid": "05cc52ec8ac78b936b10291cd46a320259b49425",
    "id": "ed581f7a-48e1-448f-bf64-c2908eac20e3"
   },
   "source": [
    "we have seen that the salary has little effect on the chance of a customer churning. However as seen above, the ratio of the bank balance and the estimated salary indicates that customers with a higher balance salary ratio churn more which would be worrying to the bank as this impacts their source of loan capital."
   ]
  },
  {
   "cell_type": "code",
   "execution_count": null,
   "metadata": {
    "_uuid": "4e13d0df114dbf1d6d9965e776403f4861380295",
    "id": "1a7bf304-faa6-40d6-a36e-b181f27b6db6"
   },
   "outputs": [],
   "source": [
    "# Given that tenure is a 'function' of age, we introduce a variable aiming to standardize tenure over age:\n",
    "df_train['TenureByAge'] = df_train.Tenure/(df_train.Age)\n",
    "sns.boxplot(y='TenureByAge',x = 'Exited', hue = 'Exited',data = df_train)\n",
    "plt.ylim(-1, 1)\n",
    "plt.show()"
   ]
  },
  {
   "cell_type": "code",
   "execution_count": null,
   "metadata": {
    "_uuid": "e2444ab18fd23f562b2653e4a731a510b750cdfb",
    "id": "0462a5e4-5f19-45af-9e92-84117945a58f"
   },
   "outputs": [],
   "source": [
    "'''Lastly we introduce a variable to capture credit score given age to take into account credit behaviour visavis adult life\n",
    ":-)'''\n",
    "df_train['CreditScoreGivenAge'] = df_train.CreditScore/(df_train.Age)"
   ]
  },
  {
   "cell_type": "code",
   "execution_count": null,
   "metadata": {
    "_uuid": "54f01a2ae85f53e265700b712352a0b0fd62c689",
    "id": "564ff26c-933b-4ec2-a576-c1c0b0134a80"
   },
   "outputs": [],
   "source": [
    "# Resulting Data Frame\n",
    "df_train.head()"
   ]
  },
  {
   "cell_type": "markdown",
   "metadata": {
    "_uuid": "cf717510d96c68b996c12ab62ae7d25c45c6391a",
    "id": "9aa5ac0a-5996-4ca0-ae56-158064860013"
   },
   "source": [
    "## 5. Data prep for model fitting"
   ]
  },
  {
   "cell_type": "code",
   "execution_count": null,
   "metadata": {
    "_uuid": "9415a054dbfaa6c5112e1c6dbe69d3f7f4b498c4",
    "id": "7420f4ac-857f-4c13-84b0-8fa56ca0e063"
   },
   "outputs": [],
   "source": [
    "# Arrange columns by data type for easier manipulation\n",
    "continuous_vars = ['CreditScore',  'Age', 'Tenure', 'Balance','NumOfProducts', 'EstimatedSalary', 'BalanceSalaryRatio',\n",
    "                   'TenureByAge','CreditScoreGivenAge']\n",
    "cat_vars = ['HasCrCard', 'IsActiveMember','Geography', 'Gender']\n",
    "df_train = df_train[['Exited'] + continuous_vars + cat_vars]\n",
    "df_train.head()"
   ]
  },
  {
   "cell_type": "code",
   "execution_count": null,
   "metadata": {
    "_uuid": "d36171577f7377a9e6936481e454660c64367d1f",
    "id": "eebfad8a-97dd-4db1-80b6-56fe0f3e863a"
   },
   "outputs": [],
   "source": [
    "'''For the one hot variables, we change 0 to -1 so that the models can capture a negative relation \n",
    "where the attribute in inapplicable instead of 0'''\n",
    "df_train.loc[df_train.HasCrCard == 0, 'HasCrCard'] = -1\n",
    "df_train.loc[df_train.IsActiveMember == 0, 'IsActiveMember'] = -1\n",
    "df_train.head()"
   ]
  },
  {
   "cell_type": "code",
   "execution_count": null,
   "metadata": {
    "_uuid": "0cb7a887e800f644389f532de47d7a8f15ebed55",
    "id": "b9f1c05d-9460-4b3f-ae4e-5f4773c30aa2"
   },
   "outputs": [],
   "source": [
    "# One hot encode the categorical variables\n",
    "lst = ['Geography', 'Gender']\n",
    "remove = list()\n",
    "for i in lst:\n",
    "    if (df_train[i].dtype == np.str or df_train[i].dtype == np.object):\n",
    "        for j in df_train[i].unique():\n",
    "            df_train[i+'_'+j] = np.where(df_train[i] == j,1,-1)\n",
    "        remove.append(i)\n",
    "df_train = df_train.drop(remove, axis=1)\n",
    "df_train.head()"
   ]
  },
  {
   "cell_type": "code",
   "execution_count": null,
   "metadata": {
    "_uuid": "d2ebe0ab88db0953748eed04e4af0d7e873ed513",
    "id": "23105928-af6d-45c9-b494-66756e1ca3de",
    "scrolled": true
   },
   "outputs": [],
   "source": [
    "# minMax scaling the continuous variables\n",
    "minVec = df_train[continuous_vars].min().copy()\n",
    "maxVec = df_train[continuous_vars].max().copy()\n",
    "df_train[continuous_vars] = (df_train[continuous_vars]-minVec)/(maxVec-minVec)\n",
    "df_train.head()"
   ]
  },
  {
   "cell_type": "code",
   "execution_count": null,
   "metadata": {
    "_uuid": "7aef53ad86420d1553aa6b730135ef6ffb3824ae",
    "id": "48e5203b-950c-4165-b640-44d96325c227"
   },
   "outputs": [],
   "source": [
    "# data prep pipeline for test data\n",
    "def DfPrepPipeline(df_predict,df_train_Cols,minVec,maxVec):\n",
    "    # Add new features\n",
    "    df_predict['BalanceSalaryRatio'] = df_predict.Balance/df_predict.EstimatedSalary\n",
    "    df_predict['TenureByAge'] = df_predict.Tenure/(df_predict.Age - 18)\n",
    "    df_predict['CreditScoreGivenAge'] = df_predict.CreditScore/(df_predict.Age - 18)\n",
    "    # Reorder the columns\n",
    "    continuous_vars = ['CreditScore','Age','Tenure','Balance','NumOfProducts','EstimatedSalary','BalanceSalaryRatio',\n",
    "                   'TenureByAge','CreditScoreGivenAge']\n",
    "    cat_vars = ['HasCrCard','IsActiveMember',\"Geography\", \"Gender\"] \n",
    "    df_predict = df_predict[['Exited'] + continuous_vars + cat_vars]\n",
    "    # Change the 0 in categorical variables to -1\n",
    "    df_predict.loc[df_predict.HasCrCard == 0, 'HasCrCard'] = -1\n",
    "    df_predict.loc[df_predict.IsActiveMember == 0, 'IsActiveMember'] = -1\n",
    "    # One hot encode the categorical variables\n",
    "    lst = [\"Geography\", \"Gender\"]\n",
    "    remove = list()\n",
    "    for i in lst:\n",
    "        for j in df_predict[i].unique():\n",
    "            df_predict[i+'_'+j] = np.where(df_predict[i] == j,1,-1)\n",
    "        remove.append(i)\n",
    "    df_predict = df_predict.drop(remove, axis=1)\n",
    "    # Ensure that all one hot encoded variables that appear in the train data appear in the subsequent data\n",
    "    L = list(set(df_train_Cols) - set(df_predict.columns))\n",
    "    for l in L:\n",
    "        df_predict[str(l)] = -1        \n",
    "    # MinMax scaling coontinuous variables based on min and max from the train data\n",
    "    df_predict[continuous_vars] = (df_predict[continuous_vars]-minVec)/(maxVec-minVec)\n",
    "    # Ensure that The variables are ordered in the same way as was ordered in the train set\n",
    "    df_predict = df_predict[df_train_Cols]\n",
    "    return df_predict"
   ]
  },
  {
   "cell_type": "markdown",
   "metadata": {
    "_uuid": "226779cf93f6ef4f5cc338d296139a2706ae33f7",
    "id": "2e2b0db1-a62f-455d-a640-e331d774d8a2"
   },
   "source": [
    "## 6. Model fitting and selection\n",
    "For the model fitting, I will try out the following\n",
    "* Logistic regression in the primal space and with different kernels\n",
    "* SVM in the primal and with different Kernels\n",
    "* Ensemble models"
   ]
  },
  {
   "cell_type": "code",
   "execution_count": null,
   "metadata": {
    "_uuid": "73308db2ad89fd01558192944abceaeeb6a95481",
    "id": "d44970fd-bf00-4dbf-b488-1364cb7f43b4"
   },
   "outputs": [],
   "source": [
    "# Support functions\n",
    "from sklearn.preprocessing import PolynomialFeatures\n",
    "from sklearn.model_selection import cross_val_score\n",
    "from sklearn.model_selection import GridSearchCV\n",
    "from scipy.stats import uniform\n",
    "\n",
    "# Fit models\n",
    "from sklearn.linear_model import LogisticRegression\n",
    "from sklearn.svm import SVC\n",
    "from sklearn.ensemble import RandomForestClassifier\n",
    "from xgboost import XGBClassifier\n",
    "\n",
    "# Scoring functions\n",
    "from sklearn.metrics import accuracy_score\n",
    "from sklearn.metrics import classification_report\n",
    "from sklearn.metrics import roc_auc_score\n",
    "from sklearn.metrics import roc_curve"
   ]
  },
  {
   "cell_type": "code",
   "execution_count": null,
   "metadata": {
    "_uuid": "cfdd4dbf61156588a610bdfe2e341d5cf205d5f4",
    "id": "dda9ce27-29fa-4bf2-be64-27993526c516"
   },
   "outputs": [],
   "source": [
    "# Function to give best model score and parameters\n",
    "def best_model(model):\n",
    "    print(model.best_score_)    \n",
    "    print(model.best_params_)\n",
    "    print(model.best_estimator_)\n",
    "def get_auc_scores(y_actual, method,method2):\n",
    "    auc_score = roc_auc_score(y_actual, method); \n",
    "    fpr_df, tpr_df, _ = roc_curve(y_actual, method2); \n",
    "    return (auc_score, fpr_df, tpr_df)"
   ]
  },
  {
   "cell_type": "markdown",
   "metadata": {
    "_uuid": "59a76150798b97644d191f8be9b2b4854e20da3d",
    "id": "93601c85-0da0-4059-97d5-2d6dfdaba7ad"
   },
   "source": [
    "## !Warning. This section takes a loooooong time to run so you have the option to skip to the next section where I fit the better models from this section."
   ]
  },
  {
   "cell_type": "code",
   "execution_count": null,
   "metadata": {
    "_uuid": "c9d098f114a85b1a9b09aea040c5b01424828e2e",
    "id": "b68eacc3-e035-4e54-905c-fd1980779a26"
   },
   "outputs": [],
   "source": [
    "# Fit primal logistic regression\n",
    "param_grid = {'C': [0.1,0.5,1,10,50,100], 'max_iter': [250], 'fit_intercept':[True],'intercept_scaling':[1],\n",
    "              'penalty':['l2'], 'tol':[0.00001,0.0001,0.000001]}\n",
    "log_primal_Grid = GridSearchCV(LogisticRegression(solver='lbfgs'),param_grid, cv=10, refit=True, verbose=0)\n",
    "log_primal_Grid.fit(df_train.loc[:, df_train.columns != 'Exited'],df_train.Exited)\n",
    "best_model(log_primal_Grid)"
   ]
  },
  {
   "cell_type": "code",
   "execution_count": null,
   "metadata": {
    "_uuid": "64bbef061fc757e44c849f22c3ed86e637e74ef6",
    "id": "463fba9b-369b-471f-a6ca-404590e93f07",
    "scrolled": true
   },
   "outputs": [],
   "source": [
    "# Fit logistic regression with degree 2 polynomial kernel\n",
    "param_grid = {'C': [0.1,10,50], 'max_iter': [300,500], 'fit_intercept':[True],'intercept_scaling':[1],'penalty':['l2'],\n",
    "              'tol':[0.0001,0.000001]}\n",
    "poly2 = PolynomialFeatures(degree=2)\n",
    "df_train_pol2 = poly2.fit_transform(df_train.loc[:, df_train.columns != 'Exited'])\n",
    "log_pol2_Grid = GridSearchCV(LogisticRegression(solver = 'liblinear'),param_grid, cv=5, refit=True, verbose=0)\n",
    "log_pol2_Grid.fit(df_train_pol2,df_train.Exited)\n",
    "best_model(log_pol2_Grid)"
   ]
  },
  {
   "cell_type": "code",
   "execution_count": null,
   "metadata": {
    "_uuid": "f6d7877e7ee6667082cdda0c29514d4c2d88287f",
    "id": "e82268c0-dd42-4bdf-b829-3b10b109d096"
   },
   "outputs": [],
   "source": [
    "# Fit SVM with RBF Kernel\n",
    "param_grid = {'C': [0.5,100,150], 'gamma': [0.1,0.01,0.001],'probability':[True],'kernel': ['rbf']}\n",
    "SVM_grid = GridSearchCV(SVC(), param_grid, cv=3, refit=True, verbose=0)\n",
    "SVM_grid.fit(df_train.loc[:, df_train.columns != 'Exited'],df_train.Exited)\n",
    "best_model(SVM_grid)"
   ]
  },
  {
   "cell_type": "code",
   "execution_count": null,
   "metadata": {
    "_uuid": "233f559b9c40a91fc5ed6755761211e567cac669",
    "id": "f3d32f92-f77b-47ee-a9fa-0041c52dd8e3",
    "scrolled": true
   },
   "outputs": [],
   "source": [
    "# Fit SVM with pol kernel\n",
    "param_grid = {'C': [0.5,1,10,50,100], 'gamma': [0.1,0.01,0.001],'probability':[True],'kernel': ['poly'],'degree':[2,3] }\n",
    "SVM_grid = GridSearchCV(SVC(), param_grid, cv=3, refit=True, verbose=0)\n",
    "SVM_grid.fit(df_train.loc[:, df_train.columns != 'Exited'],df_train.Exited)\n",
    "best_model(SVM_grid)"
   ]
  },
  {
   "cell_type": "code",
   "execution_count": null,
   "metadata": {
    "_uuid": "58b62114793f6731f2077069351dcd1476c13a7b",
    "id": "1b5a5f94-35f4-4f9d-bc98-4fd1caa65e4e",
    "scrolled": true
   },
   "outputs": [],
   "source": [
    "# Fit random forest classifier\n",
    "param_grid = {'max_depth': [3, 5, 6, 7, 8], 'max_features': [2,4,6,7,8,9],'n_estimators':[50,100],'min_samples_split': [3, 5, 6, 7]}\n",
    "RanFor_grid = GridSearchCV(RandomForestClassifier(), param_grid, cv=5, refit=True, verbose=0)\n",
    "RanFor_grid.fit(df_train.loc[:, df_train.columns != 'Exited'],df_train.Exited)\n",
    "best_model(RanFor_grid)"
   ]
  },
  {
   "cell_type": "code",
   "execution_count": null,
   "metadata": {
    "_uuid": "4ecb43daf32db29a35e72dbc28c5c5199494493e",
    "id": "71197dd4-624c-4851-8fe5-4dcc18bb9089"
   },
   "outputs": [],
   "source": [
    "# Fit Extreme Gradient boosting classifier\n",
    "param_grid = {'max_depth': [5,6,7,8], 'gamma': [0.01,0.001,0.001],'min_child_weight':[1,5,10], 'learning_rate': [0.05,0.1, 0.2, 0.3], 'n_estimators':[5,10,20,100]}\n",
    "xgb_grid = GridSearchCV(XGBClassifier(), param_grid, cv=5, refit=True, verbose=0)\n",
    "xgb_grid.fit(df_train.loc[:, df_train.columns != 'Exited'],df_train.Exited)\n",
    "best_model(xgb_grid)"
   ]
  },
  {
   "cell_type": "markdown",
   "metadata": {
    "_uuid": "52e18620e3b6025054aab135ee5a0b8c54f0a8d0",
    "id": "316633bc-864f-4343-bceb-3031f7e0f8e2"
   },
   "source": [
    "### Fit best Models"
   ]
  },
  {
   "cell_type": "code",
   "execution_count": null,
   "metadata": {
    "_uuid": "21507a649919e4d12713d2af55a92424eb0db727",
    "id": "277395e7-a704-452d-ac03-98aa78e41658"
   },
   "outputs": [],
   "source": [
    "# Fit primal logistic regression\n",
    "log_primal = LogisticRegression(C=100, class_weight=None, dual=False, fit_intercept=True,intercept_scaling=1, max_iter=250, multi_class='warn',n_jobs=None, \n",
    "                                penalty='l2', random_state=None, solver='lbfgs',tol=1e-05, verbose=0, warm_start=False)\n",
    "log_primal.fit(df_train.loc[:, df_train.columns != 'Exited'],df_train.Exited)"
   ]
  },
  {
   "cell_type": "code",
   "execution_count": null,
   "metadata": {
    "_uuid": "ba3352d570192e54799310d5a6a46d93997d9f8c",
    "id": "2177fdcd-0346-4e03-a3d5-f283e6902dcd"
   },
   "outputs": [],
   "source": [
    "# Fit logistic regression with pol 2 kernel\n",
    "poly2 = PolynomialFeatures(degree=2)\n",
    "df_train_pol2 = poly2.fit_transform(df_train.loc[:, df_train.columns != 'Exited'])\n",
    "log_pol2 = LogisticRegression(C=10, class_weight=None, dual=False, fit_intercept=True,intercept_scaling=1, max_iter=300, multi_class='warn', n_jobs=None, \n",
    "                              penalty='l2', random_state=None, solver='liblinear',tol=0.0001, verbose=0, warm_start=False)\n",
    "log_pol2.fit(df_train_pol2,df_train.Exited)"
   ]
  },
  {
   "cell_type": "code",
   "execution_count": null,
   "metadata": {
    "_uuid": "4eafde7d53cee0a3c7a003e40d906e46aef368a9",
    "id": "da0947df-487a-4f9d-878d-95933f8ca6c2"
   },
   "outputs": [],
   "source": [
    "# Fit SVM with RBF Kernel\n",
    "SVM_RBF = SVC(C=100, cache_size=200, class_weight=None, coef0=0.0, decision_function_shape='ovr', degree=3, gamma=0.1, kernel='rbf', max_iter=-1, probability=True, \n",
    "              random_state=None, shrinking=True,tol=0.001, verbose=False)\n",
    "SVM_RBF.fit(df_train.loc[:, df_train.columns != 'Exited'],df_train.Exited)"
   ]
  },
  {
   "cell_type": "code",
   "execution_count": null,
   "metadata": {
    "_uuid": "7ab4fcbc6c206724657b8c47bab04e43bf2717dd",
    "id": "662fea5d-102e-465a-a3b3-0e7a20c3e95e"
   },
   "outputs": [],
   "source": [
    "# Fit SVM with Pol Kernel\n",
    "SVM_POL = SVC(C=100, cache_size=200, class_weight=None, coef0=0.0,  decision_function_shape='ovr', degree=2, gamma=0.1, kernel='poly',  max_iter=-1,\n",
    "              probability=True, random_state=None, shrinking=True, tol=0.001, verbose=False)\n",
    "SVM_POL.fit(df_train.loc[:, df_train.columns != 'Exited'],df_train.Exited)"
   ]
  },
  {
   "cell_type": "code",
   "execution_count": null,
   "metadata": {
    "_uuid": "752a44897ee6042ff11cc6c1a8d39c5e8271b1ff",
    "id": "3b80d247-82b4-4324-b314-649d975ee075"
   },
   "outputs": [],
   "source": [
    "# Fit Random Forest classifier\n",
    "RF = RandomForestClassifier(bootstrap=True, class_weight=None, criterion='gini',max_depth=8, max_features=6, max_leaf_nodes=None,min_impurity_decrease=0.0,\n",
    "                            min_impurity_split=None,min_samples_leaf=1, min_samples_split=3,min_weight_fraction_leaf=0.0, n_estimators=50, n_jobs=None,\n",
    "                            oob_score=False, random_state=None, verbose=0,warm_start=False)\n",
    "RF.fit(df_train.loc[:, df_train.columns != 'Exited'],df_train.Exited)"
   ]
  },
  {
   "cell_type": "code",
   "execution_count": null,
   "metadata": {
    "_uuid": "1ab0490108f82d2a483d545abc8b1404a3f4aad2",
    "id": "9e9bda1c-6545-4ba1-b1f0-f14c308f1266"
   },
   "outputs": [],
   "source": [
    "# Fit Extreme Gradient Boost Classifier\n",
    "XGB = XGBClassifier(base_score=0.5, booster='gbtree', colsample_bylevel=1,colsample_bytree=1, gamma=0.01, learning_rate=0.1, max_delta_step=0,max_depth=7,\n",
    "                    min_child_weight=5, missing=None, n_estimators=20,n_jobs=1, nthread=None, objective='binary:logistic', random_state=0,reg_alpha=0, \n",
    "                    reg_lambda=1, scale_pos_weight=1, seed=None, silent=True, subsample=1)\n",
    "XGB.fit(df_train.loc[:, df_train.columns != 'Exited'],df_train.Exited)"
   ]
  },
  {
   "cell_type": "markdown",
   "metadata": {
    "_uuid": "9942f20275d7215c32f3f1710965255a5913b52d",
    "id": "78e2d257-be90-4a68-b5b1-157200e9d75d"
   },
   "source": [
    "### Review best model fit accuracy : Keen interest is on the performance in predicting 1's (Customers who churn)"
   ]
  },
  {
   "cell_type": "code",
   "execution_count": null,
   "metadata": {
    "_uuid": "0ed95314fa4e94af962872456215d5066a6c1af3",
    "id": "afe329a9-076a-4c4a-ae56-87ae7a494886",
    "scrolled": true
   },
   "outputs": [],
   "source": [
    "print(classification_report(df_train.Exited, log_primal.predict(df_train.loc[:, df_train.columns != 'Exited'])))"
   ]
  },
  {
   "cell_type": "code",
   "execution_count": null,
   "metadata": {
    "_uuid": "298a2b1d22f12d333443c463cacf399811ecb0b3",
    "id": "ec1c36c8-67d8-4ec1-bb08-05609b1dd376",
    "scrolled": true
   },
   "outputs": [],
   "source": [
    "print(classification_report(df_train.Exited,  log_pol2.predict(df_train_pol2)))"
   ]
  },
  {
   "cell_type": "code",
   "execution_count": null,
   "metadata": {
    "_uuid": "94df747a963e4f7497d683d7079d48912b19e2cf",
    "id": "3401d2ee-9aa8-49db-af12-d51421fa9dc1",
    "scrolled": true
   },
   "outputs": [],
   "source": [
    "print(classification_report(df_train.Exited,  SVM_RBF.predict(df_train.loc[:, df_train.columns != 'Exited'])))"
   ]
  },
  {
   "cell_type": "code",
   "execution_count": null,
   "metadata": {
    "_uuid": "82c9f77ac9c3056f1ff1a87afdf06c6817551f53",
    "id": "6413b396-3846-41f6-9a8a-788f0ae45068"
   },
   "outputs": [],
   "source": [
    "print(classification_report(df_train.Exited,  SVM_POL.predict(df_train.loc[:, df_train.columns != 'Exited'])))"
   ]
  },
  {
   "cell_type": "code",
   "execution_count": null,
   "metadata": {
    "_uuid": "ed185f981ae24a9c20546adb3591f39ffd978f95",
    "id": "bf474c91-4cee-49a1-8183-8de8b6cbc153"
   },
   "outputs": [],
   "source": [
    "print(classification_report(df_train.Exited,  RF.predict(df_train.loc[:, df_train.columns != 'Exited'])))"
   ]
  },
  {
   "cell_type": "code",
   "execution_count": null,
   "metadata": {
    "_uuid": "006125a382a9f74e1984dd79232e1b2ca3badf7c",
    "id": "4f308991-03e5-465c-bf1f-225633b015da"
   },
   "outputs": [],
   "source": [
    "print(classification_report(df_train.Exited,  XGB.predict(df_train.loc[:, df_train.columns != 'Exited'])))"
   ]
  },
  {
   "cell_type": "code",
   "execution_count": null,
   "metadata": {
    "_uuid": "ee62c938db15f2ed86b4d5b7eadf39907f12fea3",
    "id": "2540ceb2-f86a-4b10-9f60-cbccdef618a1"
   },
   "outputs": [],
   "source": [
    "y = df_train.Exited\n",
    "X = df_train.loc[:, df_train.columns != 'Exited']\n",
    "X_pol2 = df_train_pol2\n",
    "auc_log_primal, fpr_log_primal, tpr_log_primal = get_auc_scores(y, log_primal.predict(X),log_primal.predict_proba(X)[:,1])\n",
    "auc_log_pol2, fpr_log_pol2, tpr_log_pol2 = get_auc_scores(y, log_pol2.predict(X_pol2),log_pol2.predict_proba(X_pol2)[:,1])\n",
    "auc_SVM_RBF, fpr_SVM_RBF, tpr_SVM_RBF = get_auc_scores(y, SVM_RBF.predict(X),SVM_RBF.predict_proba(X)[:,1])\n",
    "auc_SVM_POL, fpr_SVM_POL, tpr_SVM_POL = get_auc_scores(y, SVM_POL.predict(X),SVM_POL.predict_proba(X)[:,1])\n",
    "auc_RF, fpr_RF, tpr_RF = get_auc_scores(y, RF.predict(X),RF.predict_proba(X)[:,1])\n",
    "auc_XGB, fpr_XGB, tpr_XGB = get_auc_scores(y, XGB.predict(X),XGB.predict_proba(X)[:,1])"
   ]
  },
  {
   "cell_type": "code",
   "execution_count": null,
   "metadata": {
    "_uuid": "90959dfd1217f240ea0c6186f4a4cbdbc65cd10b",
    "id": "ab217473-ece2-47d2-83ce-0876304f2e9c"
   },
   "outputs": [],
   "source": [
    "plt.figure(figsize = (12,6), linewidth= 1)\n",
    "plt.plot(fpr_log_primal, tpr_log_primal, label = 'log primal Score: ' + str(round(auc_log_primal, 5)))\n",
    "plt.plot(fpr_log_pol2, tpr_log_pol2, label = 'log pol2 score: ' + str(round(auc_log_pol2, 5)))\n",
    "plt.plot(fpr_SVM_RBF, tpr_SVM_RBF, label = 'SVM RBF Score: ' + str(round(auc_SVM_RBF, 5)))\n",
    "plt.plot(fpr_SVM_POL, tpr_SVM_POL, label = 'SVM POL Score: ' + str(round(auc_SVM_POL, 5)))\n",
    "plt.plot(fpr_RF, tpr_RF, label = 'RF score: ' + str(round(auc_RF, 5)))\n",
    "plt.plot(fpr_XGB, tpr_XGB, label = 'XGB score: ' + str(round(auc_XGB, 5)))\n",
    "plt.plot([0,1], [0,1], 'k--', label = 'Random: 0.5')\n",
    "plt.xlabel('False positive rate')\n",
    "plt.ylabel('True positive rate')\n",
    "plt.title('ROC Curve')\n",
    "plt.legend(loc='best')\n",
    "#plt.savefig('roc_results_ratios.png')\n",
    "plt.show()"
   ]
  },
  {
   "cell_type": "markdown",
   "metadata": {
    "_uuid": "1605c421e90b591d7129382ca1d778a63a195c2b",
    "id": "08a2014c-7160-4beb-ab1c-9f083bf73270"
   },
   "source": [
    "### From the above results, my main aim is to predict the customers that will possibly churn so they can be put in some sort of scheme to prevent churn hence the recall measures on the 1's is of more importance to me than the overall accuracy score of the model.\n",
    "\n",
    "### Given that in the data we only had 20% of churn, a recall greater than this baseline will already be an improvement but we want to get as high as possible while trying to maintain a high precision so that the bank can train its resources effectively towards clients highlighted by the model without wasting too much resources on the false positives.\n",
    "\n",
    "### From the review of the fitted models above, the best model that gives a decent balance of the recall and precision is the random forest where according to the fit on the training set, with a precision score on 1's of 0.88, out of all customers that the model thinks will churn, 88% do actually churn and with the recall score of 0.53 on the 1's, the model is able to highlight 53% of all those who churned."
   ]
  },
  {
   "cell_type": "markdown",
   "metadata": {
    "_uuid": "6fa3b656a447560bac183dc3db383d1afbe698e6",
    "id": "5335708a-aa5f-49e4-9f26-07ba631c7596"
   },
   "source": [
    "### Test model prediction accuracy on test data"
   ]
  },
  {
   "cell_type": "code",
   "execution_count": null,
   "metadata": {
    "_uuid": "f82f97fbfa4c648241202aeaa90298ab3f578a08",
    "id": "cd878cea-6e25-4275-969a-b976ca27847c"
   },
   "outputs": [],
   "source": [
    "# Make the data transformation for test data\n",
    "df_test = DfPrepPipeline(df_test,df_train.columns,minVec,maxVec)\n",
    "df_test = df_test.mask(np.isinf(df_test))\n",
    "df_test = df_test.dropna()\n",
    "df_test.shape"
   ]
  },
  {
   "cell_type": "code",
   "execution_count": null,
   "metadata": {
    "_uuid": "a11d94c7595e8d043abee844f2d5d3f74c7d6750",
    "id": "d8d74228-2a52-4596-8bda-2331a35e6fa9"
   },
   "outputs": [],
   "source": [
    "print(classification_report(df_test.Exited,  RF.predict(df_test.loc[:, df_test.columns != 'Exited'])))"
   ]
  },
  {
   "cell_type": "code",
   "execution_count": null,
   "metadata": {
    "_uuid": "c2e0d6129bf75858e036cb4dfaf5da745c48017a",
    "id": "70a3e48f-4287-492b-8096-319bd385b7f1"
   },
   "outputs": [],
   "source": [
    "auc_RF_test, fpr_RF_test, tpr_RF_test = get_auc_scores(df_test.Exited, RF.predict(df_test.loc[:, df_test.columns != 'Exited']),\n",
    "                                                       RF.predict_proba(df_test.loc[:, df_test.columns != 'Exited'])[:,1])\n",
    "plt.figure(figsize = (12,6), linewidth= 1)\n",
    "plt.plot(fpr_RF_test, tpr_RF_test, label = 'RF score: ' + str(round(auc_RF_test, 5)))\n",
    "plt.plot([0,1], [0,1], 'k--', label = 'Random: 0.5')\n",
    "plt.xlabel('False positive rate')\n",
    "plt.ylabel('True positive rate')\n",
    "plt.title('ROC Curve')\n",
    "plt.legend(loc='best')\n",
    "#plt.savefig('roc_results_ratios.png')\n",
    "plt.show()"
   ]
  },
  {
   "cell_type": "markdown",
   "metadata": {
    "_uuid": "58dbfab7715d71f46c3bc696d5fd437f0fd084a8",
    "id": "403bbee8-f711-4f5e-9170-0e490c5a0259"
   },
   "source": [
    "## 7. Conclusion"
   ]
  },
  {
   "cell_type": "markdown",
   "metadata": {
    "_uuid": "f516864f306d2847723bc59a76ce56218a2189c4",
    "id": "069e7a62-ad0d-4983-89cd-ec91bde80ced"
   },
   "source": [
    "The precision of the model on previousy unseen test data is slightly higher with regard to predicting 1's i.e. those customers that churn. However, in as much as the model has a high accuracy, it still misses about half of those who end up churning. This could be imprved by providing retraining the model with more data over time while in the meantime working with the model to save the 41% that would have churned :-)"
   ]
  },
  {
   "cell_type": "code",
   "execution_count": null,
   "metadata": {
    "_uuid": "69748fd271b79bd41375f8168aa7245f0b24ed23",
    "id": "a91015e5-e15c-4f9d-a94b-b69f658bc85d"
   },
   "outputs": [],
   "source": []
  }
 ],
 "metadata": {
  "kernelspec": {
   "display_name": "Python 3.7",
   "language": "python",
   "name": "python3"
  },
  "language_info": {
   "codemirror_mode": {
    "name": "ipython",
    "version": 3
   },
   "file_extension": ".py",
   "mimetype": "text/x-python",
   "name": "python",
   "nbconvert_exporter": "python",
   "pygments_lexer": "ipython3",
   "version": "3.7.10"
  }
 },
 "nbformat": 4,
 "nbformat_minor": 4
}
