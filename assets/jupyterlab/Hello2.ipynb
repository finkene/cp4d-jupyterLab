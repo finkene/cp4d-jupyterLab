{
 "cells": [
  {
   "cell_type": "markdown",
   "id": "lined-geometry",
   "metadata": {
    "id": "43fb6e9d-c116-49e8-80fd-8cca1c496ece",
    "tags": []
   },
   "source": [
    "hello!"
   ]
  },
  {
   "cell_type": "code",
   "execution_count": null,
   "id": "unique-oxford",
   "metadata": {
    "id": "965e007c-a1c7-4373-8b44-0300d9a64e4a"
   },
   "outputs": [],
   "source": [
    "goodbye"
   ]
  }
 ],
 "metadata": {
  "kernelspec": {
   "display_name": "Python 3.8",
   "language": "python",
   "name": "python3"
  },
  "language_info": {
   "codemirror_mode": {
    "name": "ipython",
    "version": 3
   },
   "file_extension": ".py",
   "mimetype": "text/x-python",
   "name": "python",
   "nbconvert_exporter": "python",
   "pygments_lexer": "ipython3",
   "version": "3.8.11"
  }
 },
 "nbformat": 4,
 "nbformat_minor": 5
}
