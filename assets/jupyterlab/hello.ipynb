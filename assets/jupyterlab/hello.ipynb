{
 "cells": [
  {
   "cell_type": "code",
   "execution_count": 1,
   "id": "front-allocation",
   "metadata": {
    "id": "9262ad35-407e-4a14-a69e-bbd243ca9381",
    "tags": []
   },
   "outputs": [
    {
     "name": "stdout",
     "output_type": "stream",
     "text": [
      "Hello Catherine\n"
     ]
    }
   ],
   "source": [
    "print(\"Hello Catherine\")"
   ]
  },
  {
   "cell_type": "code",
   "execution_count": null,
   "id": "sublime-berry",
   "metadata": {
    "id": "625beed4-426f-4d4c-ab23-1738b0ea047c"
   },
   "outputs": [],
   "source": [
    "print(\"Goodbye World\")"
   ]
  }
 ],
 "metadata": {
  "kernelspec": {
   "display_name": "Python 3.8",
   "language": "python",
   "name": "python3"
  },
  "language_info": {
   "codemirror_mode": {
    "name": "ipython",
    "version": 3
   },
   "file_extension": ".py",
   "mimetype": "text/x-python",
   "name": "python",
   "nbconvert_exporter": "python",
   "pygments_lexer": "ipython3",
   "version": "3.8.11"
  }
 },
 "nbformat": 4,
 "nbformat_minor": 5
}
