{
 "cells": [
  {
   "cell_type": "code",
   "execution_count": 1,
   "id": "hindu-specialist",
   "metadata": {
    "id": "d52579a9-c656-4d78-930c-3a22167a172d",
    "tags": []
   },
   "outputs": [
    {
     "name": "stdout",
     "output_type": "stream",
     "text": [
      "hello Catherine\n"
     ]
    }
   ],
   "source": [
    "print (\"hello Catherine\")"
   ]
  },
  {
   "cell_type": "code",
   "execution_count": null,
   "id": "smaller-lender",
   "metadata": {
    "id": "5682a06e-d477-430b-9f55-ef59f81b17fc"
   },
   "outputs": [],
   "source": []
  }
 ],
 "metadata": {
  "kernelspec": {
   "display_name": "Python 3.7",
   "language": "python",
   "name": "python3"
  },
  "language_info": {
   "codemirror_mode": {
    "name": "ipython",
    "version": 3
   },
   "file_extension": ".py",
   "mimetype": "text/x-python",
   "name": "python",
   "nbconvert_exporter": "python",
   "pygments_lexer": "ipython3",
   "version": "3.7.10"
  }
 },
 "nbformat": 4,
 "nbformat_minor": 5
}
